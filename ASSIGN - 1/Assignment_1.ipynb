{
 "cells": [
  {
   "cell_type": "markdown",
   "metadata": {},
   "source": [
    "## Examine the dataset and use the most effective visualization graph to address the following questions. Provide your answers and analyses for each question alongside the visualizations.\n",
    "\n",
    "* **How Does the Funding Ecosystem changes with respect to Time?**\n",
    "* **What is the General Amount that Startups get in India?**\n",
    "* **Which Kind of Industries are more preferred for Startups?**\n",
    "* **Does Location also play a role, In determining the Growth of a Startup?**\n",
    "* **Who plays the main role in Indian Startups Ecosystem?**\n",
    "* **What are the different Types of Funding for Startups?**"
   ]
  },
  {
   "cell_type": "code",
   "execution_count": null,
   "metadata": {},
   "outputs": [],
   "source": []
  }
 ],
 "metadata": {
  "kernelspec": {
   "display_name": "Python 3 (ipykernel)",
   "language": "python",
   "name": "python3"
  },
  "language_info": {
   "codemirror_mode": {
    "name": "ipython",
    "version": 3
   },
   "file_extension": ".py",
   "mimetype": "text/x-python",
   "name": "python",
   "nbconvert_exporter": "python",
   "pygments_lexer": "ipython3",
   "version": "3.9.7"
  }
 },
 "nbformat": 4,
 "nbformat_minor": 4
}
